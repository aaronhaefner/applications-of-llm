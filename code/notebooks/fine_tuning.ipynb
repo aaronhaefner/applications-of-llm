{
 "cells": [
  {
   "cell_type": "markdown",
   "metadata": {},
   "source": [
    "# Demonstrating generative text with language model fine-tuning"
   ]
  },
  {
   "cell_type": "code",
   "execution_count": 1,
   "metadata": {},
   "outputs": [],
   "source": [
    "# Setup\n",
    "import logging\n",
    "from code.utils.utils import (\n",
    "    set_device, load_tokenizer_model, make_model_contiguous,\n",
    "    load_train_test, preprocess_function, set_training_args,\n",
    "    set_trainer)\n",
    "from code.utils.globals import (DATASET, MODEL_NAME)\n",
    "# evaluate model next"
   ]
  },
  {
   "cell_type": "code",
   "execution_count": 2,
   "metadata": {},
   "outputs": [],
   "source": [
    "print(f\"Training {MODEL_NAME} on {DATASET}\")\n",
    "device = set_device()\n",
    "tokenizer, model = load_tokenizer_model(device)\n",
    "\n",
    "make_model_contiguous(model)\n",
    "logging.info(f\"Model loaded on {device}\")\n",
    "\n",
    "train_dataset, test_dataset = load_train_test(DATASET)"
   ]
  },
  {
   "cell_type": "code",
   "execution_count": null,
   "metadata": {},
   "outputs": [],
   "source": [
    "# Tokenize and preprocess\n",
    "tokenized_train_dataset = train_dataset.map(\n",
    "        preprocess_function,\n",
    "        batched=True,\n",
    "        remove_columns=train_dataset.column_names)\n",
    "\n",
    "tokenized_test_dataset = test_dataset.map(\n",
    "    preprocess_function,\n",
    "    batched=True,\n",
    "    remove_columns=test_dataset.column_names)"
   ]
  },
  {
   "cell_type": "code",
   "execution_count": 4,
   "metadata": {},
   "outputs": [
    {
     "name": "stdout",
     "output_type": "stream",
     "text": [
      "Generated SQL: .\n"
     ]
    }
   ],
   "source": [
    "# Build model trainer\n",
    "training_args = set_training_args()\n",
    "trainer = set_trainer(\n",
    "    model,\n",
    "    training_args,\n",
    "    tokenized_train_dataset,\n",
    "    tokenized_test_dataset,\n",
    "    tokenizer\n",
    ")"
   ]
  },
  {
   "cell_type": "code",
   "execution_count": null,
   "metadata": {},
   "outputs": [],
   "source": [
    "# Train\n",
    "trainer.train()\n",
    "logging.info(\"Training completed and model pushed to Hugging Face Hub\")"
   ]
  }
 ],
 "metadata": {
  "kernelspec": {
   "display_name": "venv",
   "language": "python",
   "name": "venv"
  },
  "language_info": {
   "codemirror_mode": {
    "name": "ipython",
    "version": 3
   },
   "file_extension": ".py",
   "mimetype": "text/x-python",
   "name": "python",
   "nbconvert_exporter": "python",
   "pygments_lexer": "ipython3",
   "version": "3.12.4"
  }
 },
 "nbformat": 4,
 "nbformat_minor": 2
}
